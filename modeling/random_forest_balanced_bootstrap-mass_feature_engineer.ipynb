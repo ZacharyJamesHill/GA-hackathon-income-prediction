{
 "cells": [
  {
   "cell_type": "code",
   "execution_count": 278,
   "metadata": {
    "ExecuteTime": {
     "end_time": "2020-02-03T19:14:45.476460Z",
     "start_time": "2020-02-03T19:14:45.470448Z"
    }
   },
   "outputs": [],
   "source": [
    "import pandas as pd\n",
    "import numpy as np\n",
    "from sklearn.ensemble import RandomForestClassifier\n",
    "from sklearn.model_selection import train_test_split, GridSearchCV\n",
    "from sklearn.feature_selection import SelectFromModel\n",
    "from sklearn.metrics import roc_auc_score"
   ]
  },
  {
   "cell_type": "code",
   "execution_count": 211,
   "metadata": {
    "ExecuteTime": {
     "end_time": "2020-02-03T18:31:27.443265Z",
     "start_time": "2020-02-03T18:31:27.169042Z"
    }
   },
   "outputs": [],
   "source": [
    "train = pd.read_csv('../data/clean_train.csv')"
   ]
  },
  {
   "cell_type": "code",
   "execution_count": 212,
   "metadata": {
    "ExecuteTime": {
     "end_time": "2020-02-03T18:31:27.457076Z",
     "start_time": "2020-02-03T18:31:27.446051Z"
    }
   },
   "outputs": [
    {
     "data": {
      "text/plain": [
       "0    24720\n",
       "1     7841\n",
       "Name: wage_ >50K, dtype: int64"
      ]
     },
     "execution_count": 212,
     "metadata": {},
     "output_type": "execute_result"
    }
   ],
   "source": [
    "train['wage_ >50K'].value_counts()"
   ]
  },
  {
   "cell_type": "code",
   "execution_count": 213,
   "metadata": {
    "ExecuteTime": {
     "end_time": "2020-02-03T18:31:27.497039Z",
     "start_time": "2020-02-03T18:31:27.460041Z"
    }
   },
   "outputs": [],
   "source": [
    "train.drop(columns='native-country_ Holand-Netherlands', inplace=True)"
   ]
  },
  {
   "cell_type": "code",
   "execution_count": 214,
   "metadata": {
    "ExecuteTime": {
     "end_time": "2020-02-03T18:31:27.579084Z",
     "start_time": "2020-02-03T18:31:27.500058Z"
    }
   },
   "outputs": [],
   "source": [
    "np.random.seed(42)\n",
    "\n",
    "train = pd.concat([train, train[train['wage_ >50K'] == 1].sample(24720-7841, replace = True)], axis=0)"
   ]
  },
  {
   "cell_type": "code",
   "execution_count": 215,
   "metadata": {
    "ExecuteTime": {
     "end_time": "2020-02-03T18:31:27.600047Z",
     "start_time": "2020-02-03T18:31:27.581043Z"
    }
   },
   "outputs": [
    {
     "data": {
      "text/html": [
       "<div>\n",
       "<style scoped>\n",
       "    .dataframe tbody tr th:only-of-type {\n",
       "        vertical-align: middle;\n",
       "    }\n",
       "\n",
       "    .dataframe tbody tr th {\n",
       "        vertical-align: top;\n",
       "    }\n",
       "\n",
       "    .dataframe thead th {\n",
       "        text-align: right;\n",
       "    }\n",
       "</style>\n",
       "<table border=\"1\" class=\"dataframe\">\n",
       "  <thead>\n",
       "    <tr style=\"text-align: right;\">\n",
       "      <th></th>\n",
       "      <th>age</th>\n",
       "      <th>fnlwgt</th>\n",
       "      <th>education-num</th>\n",
       "      <th>capital-gain</th>\n",
       "      <th>capital-loss</th>\n",
       "      <th>hours-per-week</th>\n",
       "      <th>workclass_ Federal-gov</th>\n",
       "      <th>workclass_ Local-gov</th>\n",
       "      <th>workclass_ Never-worked</th>\n",
       "      <th>workclass_ Private</th>\n",
       "      <th>...</th>\n",
       "      <th>native-country_ Puerto-Rico</th>\n",
       "      <th>native-country_ Scotland</th>\n",
       "      <th>native-country_ South</th>\n",
       "      <th>native-country_ Taiwan</th>\n",
       "      <th>native-country_ Thailand</th>\n",
       "      <th>native-country_ Trinadad&amp;Tobago</th>\n",
       "      <th>native-country_ United-States</th>\n",
       "      <th>native-country_ Vietnam</th>\n",
       "      <th>native-country_ Yugoslavia</th>\n",
       "      <th>wage_ &gt;50K</th>\n",
       "    </tr>\n",
       "  </thead>\n",
       "  <tbody>\n",
       "    <tr>\n",
       "      <th>0</th>\n",
       "      <td>39</td>\n",
       "      <td>77516</td>\n",
       "      <td>13</td>\n",
       "      <td>2174</td>\n",
       "      <td>0</td>\n",
       "      <td>40</td>\n",
       "      <td>0</td>\n",
       "      <td>0</td>\n",
       "      <td>0</td>\n",
       "      <td>0</td>\n",
       "      <td>...</td>\n",
       "      <td>0</td>\n",
       "      <td>0</td>\n",
       "      <td>0</td>\n",
       "      <td>0</td>\n",
       "      <td>0</td>\n",
       "      <td>0</td>\n",
       "      <td>1</td>\n",
       "      <td>0</td>\n",
       "      <td>0</td>\n",
       "      <td>0</td>\n",
       "    </tr>\n",
       "    <tr>\n",
       "      <th>1</th>\n",
       "      <td>50</td>\n",
       "      <td>83311</td>\n",
       "      <td>13</td>\n",
       "      <td>0</td>\n",
       "      <td>0</td>\n",
       "      <td>13</td>\n",
       "      <td>0</td>\n",
       "      <td>0</td>\n",
       "      <td>0</td>\n",
       "      <td>0</td>\n",
       "      <td>...</td>\n",
       "      <td>0</td>\n",
       "      <td>0</td>\n",
       "      <td>0</td>\n",
       "      <td>0</td>\n",
       "      <td>0</td>\n",
       "      <td>0</td>\n",
       "      <td>1</td>\n",
       "      <td>0</td>\n",
       "      <td>0</td>\n",
       "      <td>0</td>\n",
       "    </tr>\n",
       "    <tr>\n",
       "      <th>2</th>\n",
       "      <td>38</td>\n",
       "      <td>215646</td>\n",
       "      <td>9</td>\n",
       "      <td>0</td>\n",
       "      <td>0</td>\n",
       "      <td>40</td>\n",
       "      <td>0</td>\n",
       "      <td>0</td>\n",
       "      <td>0</td>\n",
       "      <td>1</td>\n",
       "      <td>...</td>\n",
       "      <td>0</td>\n",
       "      <td>0</td>\n",
       "      <td>0</td>\n",
       "      <td>0</td>\n",
       "      <td>0</td>\n",
       "      <td>0</td>\n",
       "      <td>1</td>\n",
       "      <td>0</td>\n",
       "      <td>0</td>\n",
       "      <td>0</td>\n",
       "    </tr>\n",
       "    <tr>\n",
       "      <th>3</th>\n",
       "      <td>53</td>\n",
       "      <td>234721</td>\n",
       "      <td>7</td>\n",
       "      <td>0</td>\n",
       "      <td>0</td>\n",
       "      <td>40</td>\n",
       "      <td>0</td>\n",
       "      <td>0</td>\n",
       "      <td>0</td>\n",
       "      <td>1</td>\n",
       "      <td>...</td>\n",
       "      <td>0</td>\n",
       "      <td>0</td>\n",
       "      <td>0</td>\n",
       "      <td>0</td>\n",
       "      <td>0</td>\n",
       "      <td>0</td>\n",
       "      <td>1</td>\n",
       "      <td>0</td>\n",
       "      <td>0</td>\n",
       "      <td>0</td>\n",
       "    </tr>\n",
       "    <tr>\n",
       "      <th>4</th>\n",
       "      <td>28</td>\n",
       "      <td>338409</td>\n",
       "      <td>13</td>\n",
       "      <td>0</td>\n",
       "      <td>0</td>\n",
       "      <td>40</td>\n",
       "      <td>0</td>\n",
       "      <td>0</td>\n",
       "      <td>0</td>\n",
       "      <td>1</td>\n",
       "      <td>...</td>\n",
       "      <td>0</td>\n",
       "      <td>0</td>\n",
       "      <td>0</td>\n",
       "      <td>0</td>\n",
       "      <td>0</td>\n",
       "      <td>0</td>\n",
       "      <td>0</td>\n",
       "      <td>0</td>\n",
       "      <td>0</td>\n",
       "      <td>0</td>\n",
       "    </tr>\n",
       "  </tbody>\n",
       "</table>\n",
       "<p>5 rows × 96 columns</p>\n",
       "</div>"
      ],
      "text/plain": [
       "   age  fnlwgt  education-num  capital-gain  capital-loss  hours-per-week  \\\n",
       "0   39   77516             13          2174             0              40   \n",
       "1   50   83311             13             0             0              13   \n",
       "2   38  215646              9             0             0              40   \n",
       "3   53  234721              7             0             0              40   \n",
       "4   28  338409             13             0             0              40   \n",
       "\n",
       "   workclass_ Federal-gov  workclass_ Local-gov  workclass_ Never-worked  \\\n",
       "0                       0                     0                        0   \n",
       "1                       0                     0                        0   \n",
       "2                       0                     0                        0   \n",
       "3                       0                     0                        0   \n",
       "4                       0                     0                        0   \n",
       "\n",
       "   workclass_ Private  ...  native-country_ Puerto-Rico  \\\n",
       "0                   0  ...                            0   \n",
       "1                   0  ...                            0   \n",
       "2                   1  ...                            0   \n",
       "3                   1  ...                            0   \n",
       "4                   1  ...                            0   \n",
       "\n",
       "   native-country_ Scotland  native-country_ South  native-country_ Taiwan  \\\n",
       "0                         0                      0                       0   \n",
       "1                         0                      0                       0   \n",
       "2                         0                      0                       0   \n",
       "3                         0                      0                       0   \n",
       "4                         0                      0                       0   \n",
       "\n",
       "   native-country_ Thailand  native-country_ Trinadad&Tobago  \\\n",
       "0                         0                                0   \n",
       "1                         0                                0   \n",
       "2                         0                                0   \n",
       "3                         0                                0   \n",
       "4                         0                                0   \n",
       "\n",
       "   native-country_ United-States  native-country_ Vietnam  \\\n",
       "0                              1                        0   \n",
       "1                              1                        0   \n",
       "2                              1                        0   \n",
       "3                              1                        0   \n",
       "4                              0                        0   \n",
       "\n",
       "   native-country_ Yugoslavia  wage_ >50K  \n",
       "0                           0           0  \n",
       "1                           0           0  \n",
       "2                           0           0  \n",
       "3                           0           0  \n",
       "4                           0           0  \n",
       "\n",
       "[5 rows x 96 columns]"
      ]
     },
     "execution_count": 215,
     "metadata": {},
     "output_type": "execute_result"
    }
   ],
   "source": [
    "train.head()"
   ]
  },
  {
   "cell_type": "code",
   "execution_count": 216,
   "metadata": {
    "ExecuteTime": {
     "end_time": "2020-02-03T18:31:27.630052Z",
     "start_time": "2020-02-03T18:31:27.604054Z"
    }
   },
   "outputs": [
    {
     "data": {
      "text/html": [
       "<div>\n",
       "<style scoped>\n",
       "    .dataframe tbody tr th:only-of-type {\n",
       "        vertical-align: middle;\n",
       "    }\n",
       "\n",
       "    .dataframe tbody tr th {\n",
       "        vertical-align: top;\n",
       "    }\n",
       "\n",
       "    .dataframe thead th {\n",
       "        text-align: right;\n",
       "    }\n",
       "</style>\n",
       "<table border=\"1\" class=\"dataframe\">\n",
       "  <thead>\n",
       "    <tr style=\"text-align: right;\">\n",
       "      <th></th>\n",
       "      <th>age</th>\n",
       "      <th>fnlwgt</th>\n",
       "      <th>education-num</th>\n",
       "      <th>capital-gain</th>\n",
       "      <th>capital-loss</th>\n",
       "      <th>hours-per-week</th>\n",
       "      <th>workclass_ Federal-gov</th>\n",
       "      <th>workclass_ Local-gov</th>\n",
       "      <th>workclass_ Never-worked</th>\n",
       "      <th>workclass_ Private</th>\n",
       "      <th>...</th>\n",
       "      <th>native-country_ Puerto-Rico</th>\n",
       "      <th>native-country_ Scotland</th>\n",
       "      <th>native-country_ South</th>\n",
       "      <th>native-country_ Taiwan</th>\n",
       "      <th>native-country_ Thailand</th>\n",
       "      <th>native-country_ Trinadad&amp;Tobago</th>\n",
       "      <th>native-country_ United-States</th>\n",
       "      <th>native-country_ Vietnam</th>\n",
       "      <th>native-country_ Yugoslavia</th>\n",
       "      <th>wage_ &gt;50K</th>\n",
       "    </tr>\n",
       "  </thead>\n",
       "  <tbody>\n",
       "    <tr>\n",
       "      <th>0</th>\n",
       "      <td>39</td>\n",
       "      <td>77516</td>\n",
       "      <td>13</td>\n",
       "      <td>2174</td>\n",
       "      <td>0</td>\n",
       "      <td>40</td>\n",
       "      <td>0</td>\n",
       "      <td>0</td>\n",
       "      <td>0</td>\n",
       "      <td>0</td>\n",
       "      <td>...</td>\n",
       "      <td>0</td>\n",
       "      <td>0</td>\n",
       "      <td>0</td>\n",
       "      <td>0</td>\n",
       "      <td>0</td>\n",
       "      <td>0</td>\n",
       "      <td>1</td>\n",
       "      <td>0</td>\n",
       "      <td>0</td>\n",
       "      <td>0</td>\n",
       "    </tr>\n",
       "    <tr>\n",
       "      <th>1</th>\n",
       "      <td>50</td>\n",
       "      <td>83311</td>\n",
       "      <td>13</td>\n",
       "      <td>0</td>\n",
       "      <td>0</td>\n",
       "      <td>13</td>\n",
       "      <td>0</td>\n",
       "      <td>0</td>\n",
       "      <td>0</td>\n",
       "      <td>0</td>\n",
       "      <td>...</td>\n",
       "      <td>0</td>\n",
       "      <td>0</td>\n",
       "      <td>0</td>\n",
       "      <td>0</td>\n",
       "      <td>0</td>\n",
       "      <td>0</td>\n",
       "      <td>1</td>\n",
       "      <td>0</td>\n",
       "      <td>0</td>\n",
       "      <td>0</td>\n",
       "    </tr>\n",
       "    <tr>\n",
       "      <th>2</th>\n",
       "      <td>38</td>\n",
       "      <td>215646</td>\n",
       "      <td>9</td>\n",
       "      <td>0</td>\n",
       "      <td>0</td>\n",
       "      <td>40</td>\n",
       "      <td>0</td>\n",
       "      <td>0</td>\n",
       "      <td>0</td>\n",
       "      <td>1</td>\n",
       "      <td>...</td>\n",
       "      <td>0</td>\n",
       "      <td>0</td>\n",
       "      <td>0</td>\n",
       "      <td>0</td>\n",
       "      <td>0</td>\n",
       "      <td>0</td>\n",
       "      <td>1</td>\n",
       "      <td>0</td>\n",
       "      <td>0</td>\n",
       "      <td>0</td>\n",
       "    </tr>\n",
       "    <tr>\n",
       "      <th>3</th>\n",
       "      <td>53</td>\n",
       "      <td>234721</td>\n",
       "      <td>7</td>\n",
       "      <td>0</td>\n",
       "      <td>0</td>\n",
       "      <td>40</td>\n",
       "      <td>0</td>\n",
       "      <td>0</td>\n",
       "      <td>0</td>\n",
       "      <td>1</td>\n",
       "      <td>...</td>\n",
       "      <td>0</td>\n",
       "      <td>0</td>\n",
       "      <td>0</td>\n",
       "      <td>0</td>\n",
       "      <td>0</td>\n",
       "      <td>0</td>\n",
       "      <td>1</td>\n",
       "      <td>0</td>\n",
       "      <td>0</td>\n",
       "      <td>0</td>\n",
       "    </tr>\n",
       "    <tr>\n",
       "      <th>4</th>\n",
       "      <td>28</td>\n",
       "      <td>338409</td>\n",
       "      <td>13</td>\n",
       "      <td>0</td>\n",
       "      <td>0</td>\n",
       "      <td>40</td>\n",
       "      <td>0</td>\n",
       "      <td>0</td>\n",
       "      <td>0</td>\n",
       "      <td>1</td>\n",
       "      <td>...</td>\n",
       "      <td>0</td>\n",
       "      <td>0</td>\n",
       "      <td>0</td>\n",
       "      <td>0</td>\n",
       "      <td>0</td>\n",
       "      <td>0</td>\n",
       "      <td>0</td>\n",
       "      <td>0</td>\n",
       "      <td>0</td>\n",
       "      <td>0</td>\n",
       "    </tr>\n",
       "  </tbody>\n",
       "</table>\n",
       "<p>5 rows × 96 columns</p>\n",
       "</div>"
      ],
      "text/plain": [
       "   age  fnlwgt  education-num  capital-gain  capital-loss  hours-per-week  \\\n",
       "0   39   77516             13          2174             0              40   \n",
       "1   50   83311             13             0             0              13   \n",
       "2   38  215646              9             0             0              40   \n",
       "3   53  234721              7             0             0              40   \n",
       "4   28  338409             13             0             0              40   \n",
       "\n",
       "   workclass_ Federal-gov  workclass_ Local-gov  workclass_ Never-worked  \\\n",
       "0                       0                     0                        0   \n",
       "1                       0                     0                        0   \n",
       "2                       0                     0                        0   \n",
       "3                       0                     0                        0   \n",
       "4                       0                     0                        0   \n",
       "\n",
       "   workclass_ Private  ...  native-country_ Puerto-Rico  \\\n",
       "0                   0  ...                            0   \n",
       "1                   0  ...                            0   \n",
       "2                   1  ...                            0   \n",
       "3                   1  ...                            0   \n",
       "4                   1  ...                            0   \n",
       "\n",
       "   native-country_ Scotland  native-country_ South  native-country_ Taiwan  \\\n",
       "0                         0                      0                       0   \n",
       "1                         0                      0                       0   \n",
       "2                         0                      0                       0   \n",
       "3                         0                      0                       0   \n",
       "4                         0                      0                       0   \n",
       "\n",
       "   native-country_ Thailand  native-country_ Trinadad&Tobago  \\\n",
       "0                         0                                0   \n",
       "1                         0                                0   \n",
       "2                         0                                0   \n",
       "3                         0                                0   \n",
       "4                         0                                0   \n",
       "\n",
       "   native-country_ United-States  native-country_ Vietnam  \\\n",
       "0                              1                        0   \n",
       "1                              1                        0   \n",
       "2                              1                        0   \n",
       "3                              1                        0   \n",
       "4                              0                        0   \n",
       "\n",
       "   native-country_ Yugoslavia  wage_ >50K  \n",
       "0                           0           0  \n",
       "1                           0           0  \n",
       "2                           0           0  \n",
       "3                           0           0  \n",
       "4                           0           0  \n",
       "\n",
       "[5 rows x 96 columns]"
      ]
     },
     "execution_count": 216,
     "metadata": {},
     "output_type": "execute_result"
    }
   ],
   "source": [
    "train.head()"
   ]
  },
  {
   "cell_type": "code",
   "execution_count": 355,
   "metadata": {
    "ExecuteTime": {
     "end_time": "2020-02-03T20:20:18.746742Z",
     "start_time": "2020-02-03T20:20:18.487743Z"
    }
   },
   "outputs": [],
   "source": [
    "\n",
    "X = train.drop(columns='wage_ >50K')\n",
    "y = train['wage_ >50K']"
   ]
  },
  {
   "cell_type": "code",
   "execution_count": 315,
   "metadata": {
    "ExecuteTime": {
     "end_time": "2020-02-03T20:11:32.585556Z",
     "start_time": "2020-02-03T20:10:06.200669Z"
    }
   },
   "outputs": [],
   "source": [
    "remaining = list(X.columns)\n",
    "starting = list(X.columns)\n",
    "for col in remaining:\n",
    "    for col_2 in starting:\n",
    "        X[f'{col} * {col_2}'] = X[f'{col}'] * X[f'{col_2}']\n",
    "    remaining.remove(col)"
   ]
  },
  {
   "cell_type": "code",
   "execution_count": 316,
   "metadata": {
    "ExecuteTime": {
     "end_time": "2020-02-03T20:11:37.587595Z",
     "start_time": "2020-02-03T20:11:32.588558Z"
    }
   },
   "outputs": [],
   "source": [
    "X_train, X_test, y_train, y_test = train_test_split(X,y, random_state = 42)"
   ]
  },
  {
   "cell_type": "code",
   "execution_count": 317,
   "metadata": {
    "ExecuteTime": {
     "end_time": "2020-02-03T20:12:41.493558Z",
     "start_time": "2020-02-03T20:11:39.953560Z"
    }
   },
   "outputs": [
    {
     "data": {
      "text/plain": [
       "RandomForestClassifier(bootstrap=True, class_weight=None, criterion='gini',\n",
       "                       max_depth=None, max_features='auto', max_leaf_nodes=None,\n",
       "                       min_impurity_decrease=0.0, min_impurity_split=None,\n",
       "                       min_samples_leaf=1, min_samples_split=2,\n",
       "                       min_weight_fraction_leaf=0.0, n_estimators=100,\n",
       "                       n_jobs=None, oob_score=False, random_state=None,\n",
       "                       verbose=0, warm_start=False)"
      ]
     },
     "execution_count": 317,
     "metadata": {},
     "output_type": "execute_result"
    }
   ],
   "source": [
    "rf = RandomForestClassifier(n_estimators=100)\n",
    "rf.fit(X_train, y_train)"
   ]
  },
  {
   "cell_type": "code",
   "execution_count": 318,
   "metadata": {
    "ExecuteTime": {
     "end_time": "2020-02-03T20:12:50.717556Z",
     "start_time": "2020-02-03T20:12:50.664557Z"
    }
   },
   "outputs": [],
   "source": [
    "sel = SelectFromModel(rf,prefit=True, threshold= 'mean')\n",
    "good_features = list(X.columns[sel.get_support()])"
   ]
  },
  {
   "cell_type": "code",
   "execution_count": 320,
   "metadata": {
    "ExecuteTime": {
     "end_time": "2020-02-03T20:12:58.166602Z",
     "start_time": "2020-02-03T20:12:58.160562Z"
    }
   },
   "outputs": [
    {
     "data": {
      "text/plain": [
       "4655"
      ]
     },
     "execution_count": 320,
     "metadata": {},
     "output_type": "execute_result"
    }
   ],
   "source": [
    "len(X.columns)"
   ]
  },
  {
   "cell_type": "code",
   "execution_count": 321,
   "metadata": {
    "ExecuteTime": {
     "end_time": "2020-02-03T20:13:04.410560Z",
     "start_time": "2020-02-03T20:13:04.404563Z"
    }
   },
   "outputs": [
    {
     "data": {
      "text/plain": [
       "425"
      ]
     },
     "execution_count": 321,
     "metadata": {},
     "output_type": "execute_result"
    }
   ],
   "source": [
    "len(good_features)"
   ]
  },
  {
   "cell_type": "code",
   "execution_count": 322,
   "metadata": {
    "ExecuteTime": {
     "end_time": "2020-02-03T20:13:10.610560Z",
     "start_time": "2020-02-03T20:13:07.118556Z"
    }
   },
   "outputs": [
    {
     "data": {
      "text/plain": [
       "(1.0, 0.9224110032362459)"
      ]
     },
     "execution_count": 322,
     "metadata": {},
     "output_type": "execute_result"
    }
   ],
   "source": [
    "rf.score(X_train, y_train), rf.score(X_test, y_test)"
   ]
  },
  {
   "cell_type": "code",
   "execution_count": 323,
   "metadata": {
    "ExecuteTime": {
     "end_time": "2020-02-03T20:13:14.468558Z",
     "start_time": "2020-02-03T20:13:10.613562Z"
    }
   },
   "outputs": [
    {
     "data": {
      "text/plain": [
       "(0.9152574541533202, 0.804525509708731)"
      ]
     },
     "execution_count": 323,
     "metadata": {},
     "output_type": "execute_result"
    }
   ],
   "source": [
    "((rf.predict_proba(X_train)[:,0] - y_train)**2).mean(), ((rf.predict_proba(X_test)[:,0] - y_test)**2).mean()"
   ]
  },
  {
   "cell_type": "code",
   "execution_count": 324,
   "metadata": {
    "ExecuteTime": {
     "end_time": "2020-02-03T20:13:18.218569Z",
     "start_time": "2020-02-03T20:13:14.472561Z"
    }
   },
   "outputs": [
    {
     "data": {
      "text/plain": [
       "(1.0, 0.9803732918129429)"
      ]
     },
     "execution_count": 324,
     "metadata": {},
     "output_type": "execute_result"
    }
   ],
   "source": [
    "roc_auc_score(y_train, rf.predict_proba(X_train)[:,1]), roc_auc_score(y_test, rf.predict_proba(X_test)[:,1])"
   ]
  },
  {
   "cell_type": "code",
   "execution_count": 325,
   "metadata": {
    "ExecuteTime": {
     "end_time": "2020-02-03T20:13:22.629559Z",
     "start_time": "2020-02-03T20:13:22.491557Z"
    }
   },
   "outputs": [],
   "source": [
    "X_selected = X[good_features]"
   ]
  },
  {
   "cell_type": "code",
   "execution_count": 326,
   "metadata": {
    "ExecuteTime": {
     "end_time": "2020-02-03T20:13:23.931562Z",
     "start_time": "2020-02-03T20:13:23.920565Z"
    }
   },
   "outputs": [
    {
     "data": {
      "text/plain": [
       "['age',\n",
       " 'fnlwgt',\n",
       " 'education-num',\n",
       " 'capital-gain',\n",
       " 'capital-loss',\n",
       " 'hours-per-week',\n",
       " 'workclass_ Federal-gov',\n",
       " 'workclass_ Local-gov',\n",
       " 'workclass_ Private',\n",
       " 'workclass_ Self-emp-inc',\n",
       " 'workclass_ Self-emp-not-inc',\n",
       " 'workclass_ State-gov',\n",
       " 'education_ Assoc-voc',\n",
       " 'education_ Bachelors',\n",
       " 'education_ Doctorate',\n",
       " 'education_ HS-grad',\n",
       " 'education_ Masters',\n",
       " 'education_ Prof-school',\n",
       " 'education_ Some-college',\n",
       " 'marital-status_ Married-civ-spouse',\n",
       " 'marital-status_ Never-married',\n",
       " 'occupation_ Adm-clerical',\n",
       " 'occupation_ Craft-repair',\n",
       " 'occupation_ Exec-managerial',\n",
       " 'occupation_ Farming-fishing',\n",
       " 'occupation_ Machine-op-inspct',\n",
       " 'occupation_ Other-service',\n",
       " 'occupation_ Prof-specialty',\n",
       " 'occupation_ Protective-serv',\n",
       " 'occupation_ Sales',\n",
       " 'occupation_ Tech-support',\n",
       " 'occupation_ Transport-moving',\n",
       " 'relationship_ Not-in-family',\n",
       " 'relationship_ Own-child',\n",
       " 'relationship_ Unmarried',\n",
       " 'relationship_ Wife',\n",
       " 'sex_ Male',\n",
       " 'native-country_ Mexico',\n",
       " 'native-country_ United-States',\n",
       " 'age * age',\n",
       " 'age * fnlwgt',\n",
       " 'age * education-num',\n",
       " 'age * capital-gain',\n",
       " 'age * capital-loss',\n",
       " 'age * hours-per-week',\n",
       " 'age * workclass_ Federal-gov',\n",
       " 'age * workclass_ Local-gov',\n",
       " 'age * workclass_ Private',\n",
       " 'age * workclass_ Self-emp-inc',\n",
       " 'age * workclass_ Self-emp-not-inc',\n",
       " 'age * workclass_ State-gov',\n",
       " 'age * education_ 11th',\n",
       " 'age * education_ Assoc-acdm',\n",
       " 'age * education_ Assoc-voc',\n",
       " 'age * education_ Bachelors',\n",
       " 'age * education_ Doctorate',\n",
       " 'age * education_ HS-grad',\n",
       " 'age * education_ Masters',\n",
       " 'age * education_ Prof-school',\n",
       " 'age * education_ Some-college',\n",
       " 'age * marital-status_ Married-civ-spouse',\n",
       " 'age * marital-status_ Never-married',\n",
       " 'age * marital-status_ Separated',\n",
       " 'age * marital-status_ Widowed',\n",
       " 'age * occupation_ Adm-clerical',\n",
       " 'age * occupation_ Craft-repair',\n",
       " 'age * occupation_ Exec-managerial',\n",
       " 'age * occupation_ Farming-fishing',\n",
       " 'age * occupation_ Handlers-cleaners',\n",
       " 'age * occupation_ Machine-op-inspct',\n",
       " 'age * occupation_ Other-service',\n",
       " 'age * occupation_ Prof-specialty',\n",
       " 'age * occupation_ Protective-serv',\n",
       " 'age * occupation_ Sales',\n",
       " 'age * occupation_ Tech-support',\n",
       " 'age * occupation_ Transport-moving',\n",
       " 'age * relationship_ Not-in-family',\n",
       " 'age * relationship_ Own-child',\n",
       " 'age * relationship_ Unmarried',\n",
       " 'age * relationship_ Wife',\n",
       " 'age * sex_ Male',\n",
       " 'age * native-country_ Mexico',\n",
       " 'age * native-country_ United-States',\n",
       " 'education-num * age',\n",
       " 'education-num * fnlwgt',\n",
       " 'education-num * education-num',\n",
       " 'education-num * capital-gain',\n",
       " 'education-num * capital-loss',\n",
       " 'education-num * hours-per-week',\n",
       " 'education-num * workclass_ Federal-gov',\n",
       " 'education-num * workclass_ Local-gov',\n",
       " 'education-num * workclass_ Private',\n",
       " 'education-num * workclass_ Self-emp-inc',\n",
       " 'education-num * workclass_ Self-emp-not-inc',\n",
       " 'education-num * workclass_ State-gov',\n",
       " 'education-num * education_ Assoc-voc',\n",
       " 'education-num * education_ Bachelors',\n",
       " 'education-num * education_ Doctorate',\n",
       " 'education-num * education_ HS-grad',\n",
       " 'education-num * education_ Masters',\n",
       " 'education-num * education_ Prof-school',\n",
       " 'education-num * education_ Some-college',\n",
       " 'education-num * marital-status_ Married-civ-spouse',\n",
       " 'education-num * marital-status_ Never-married',\n",
       " 'education-num * marital-status_ Separated',\n",
       " 'education-num * marital-status_ Widowed',\n",
       " 'education-num * occupation_ Adm-clerical',\n",
       " 'education-num * occupation_ Craft-repair',\n",
       " 'education-num * occupation_ Exec-managerial',\n",
       " 'education-num * occupation_ Farming-fishing',\n",
       " 'education-num * occupation_ Handlers-cleaners',\n",
       " 'education-num * occupation_ Machine-op-inspct',\n",
       " 'education-num * occupation_ Other-service',\n",
       " 'education-num * occupation_ Prof-specialty',\n",
       " 'education-num * occupation_ Protective-serv',\n",
       " 'education-num * occupation_ Sales',\n",
       " 'education-num * occupation_ Tech-support',\n",
       " 'education-num * occupation_ Transport-moving',\n",
       " 'education-num * relationship_ Not-in-family',\n",
       " 'education-num * relationship_ Own-child',\n",
       " 'education-num * relationship_ Unmarried',\n",
       " 'education-num * relationship_ Wife',\n",
       " 'education-num * sex_ Male',\n",
       " 'education-num * native-country_ Mexico',\n",
       " 'education-num * native-country_ United-States',\n",
       " 'capital-loss * age',\n",
       " 'capital-loss * fnlwgt',\n",
       " 'capital-loss * education-num',\n",
       " 'capital-loss * capital-loss',\n",
       " 'capital-loss * hours-per-week',\n",
       " 'capital-loss * workclass_ Private',\n",
       " 'capital-loss * education_ Bachelors',\n",
       " 'capital-loss * education_ HS-grad',\n",
       " 'capital-loss * marital-status_ Married-civ-spouse',\n",
       " 'capital-loss * marital-status_ Never-married',\n",
       " 'capital-loss * occupation_ Craft-repair',\n",
       " 'capital-loss * occupation_ Exec-managerial',\n",
       " 'capital-loss * relationship_ Not-in-family',\n",
       " 'capital-loss * sex_ Male',\n",
       " 'capital-loss * native-country_ United-States',\n",
       " 'workclass_ Federal-gov * age',\n",
       " 'workclass_ Federal-gov * fnlwgt',\n",
       " 'workclass_ Federal-gov * education-num',\n",
       " 'workclass_ Federal-gov * hours-per-week',\n",
       " 'workclass_ Federal-gov * workclass_ Federal-gov',\n",
       " 'workclass_ Federal-gov * marital-status_ Married-civ-spouse',\n",
       " 'workclass_ Federal-gov * sex_ Male',\n",
       " 'workclass_ Federal-gov * native-country_ United-States',\n",
       " 'workclass_ Self-emp-inc * age',\n",
       " 'workclass_ Self-emp-inc * fnlwgt',\n",
       " 'workclass_ Self-emp-inc * education-num',\n",
       " 'workclass_ Self-emp-inc * hours-per-week',\n",
       " 'workclass_ Self-emp-inc * workclass_ Self-emp-inc',\n",
       " 'workclass_ Self-emp-inc * marital-status_ Married-civ-spouse',\n",
       " 'workclass_ Self-emp-inc * sex_ Male',\n",
       " 'workclass_ Self-emp-inc * native-country_ United-States',\n",
       " 'workclass_ State-gov * age',\n",
       " 'workclass_ State-gov * fnlwgt',\n",
       " 'workclass_ State-gov * education-num',\n",
       " 'workclass_ State-gov * hours-per-week',\n",
       " 'workclass_ State-gov * workclass_ State-gov',\n",
       " 'workclass_ State-gov * marital-status_ Married-civ-spouse',\n",
       " 'workclass_ State-gov * sex_ Male',\n",
       " 'workclass_ State-gov * native-country_ United-States',\n",
       " 'education_ 11th * age',\n",
       " 'education_ 11th * fnlwgt',\n",
       " 'education_ 11th * hours-per-week',\n",
       " 'education_ 11th * education_ 11th',\n",
       " 'education_ 11th * native-country_ United-States',\n",
       " 'education_ 7th-8th * age',\n",
       " 'education_ 7th-8th * fnlwgt',\n",
       " 'education_ 7th-8th * hours-per-week',\n",
       " 'education_ Assoc-acdm * age',\n",
       " 'education_ Assoc-acdm * fnlwgt',\n",
       " 'education_ Assoc-acdm * hours-per-week',\n",
       " 'education_ Bachelors * age',\n",
       " 'education_ Bachelors * fnlwgt',\n",
       " 'education_ Bachelors * education-num',\n",
       " 'education_ Bachelors * capital-gain',\n",
       " 'education_ Bachelors * capital-loss',\n",
       " 'education_ Bachelors * hours-per-week',\n",
       " 'education_ Bachelors * workclass_ Local-gov',\n",
       " 'education_ Bachelors * workclass_ Private',\n",
       " 'education_ Bachelors * workclass_ Self-emp-not-inc',\n",
       " 'education_ Bachelors * education_ Bachelors',\n",
       " 'education_ Bachelors * marital-status_ Married-civ-spouse',\n",
       " 'education_ Bachelors * marital-status_ Never-married',\n",
       " 'education_ Bachelors * occupation_ Exec-managerial',\n",
       " 'education_ Bachelors * relationship_ Not-in-family',\n",
       " 'education_ Bachelors * relationship_ Wife',\n",
       " 'education_ Bachelors * sex_ Male',\n",
       " 'education_ Bachelors * native-country_ United-States',\n",
       " 'education_ HS-grad * age',\n",
       " 'education_ HS-grad * fnlwgt',\n",
       " 'education_ HS-grad * education-num',\n",
       " 'education_ HS-grad * capital-gain',\n",
       " 'education_ HS-grad * capital-loss',\n",
       " 'education_ HS-grad * hours-per-week',\n",
       " 'education_ HS-grad * workclass_ Local-gov',\n",
       " 'education_ HS-grad * workclass_ Private',\n",
       " 'education_ HS-grad * workclass_ Self-emp-not-inc',\n",
       " 'education_ HS-grad * education_ HS-grad',\n",
       " 'education_ HS-grad * marital-status_ Married-civ-spouse',\n",
       " 'education_ HS-grad * marital-status_ Never-married',\n",
       " 'education_ HS-grad * occupation_ Adm-clerical',\n",
       " 'education_ HS-grad * occupation_ Craft-repair',\n",
       " 'education_ HS-grad * occupation_ Machine-op-inspct',\n",
       " 'education_ HS-grad * relationship_ Not-in-family',\n",
       " 'education_ HS-grad * relationship_ Own-child',\n",
       " 'education_ HS-grad * sex_ Male',\n",
       " 'education_ HS-grad * native-country_ United-States',\n",
       " 'education_ Some-college * age',\n",
       " 'education_ Some-college * fnlwgt',\n",
       " 'education_ Some-college * education-num',\n",
       " 'education_ Some-college * capital-gain',\n",
       " 'education_ Some-college * hours-per-week',\n",
       " 'education_ Some-college * workclass_ Private',\n",
       " 'education_ Some-college * workclass_ Self-emp-not-inc',\n",
       " 'education_ Some-college * education_ Some-college',\n",
       " 'education_ Some-college * marital-status_ Married-civ-spouse',\n",
       " 'education_ Some-college * occupation_ Craft-repair',\n",
       " 'education_ Some-college * relationship_ Wife',\n",
       " 'education_ Some-college * sex_ Male',\n",
       " 'education_ Some-college * native-country_ United-States',\n",
       " 'marital-status_ Married-civ-spouse * age',\n",
       " 'marital-status_ Married-civ-spouse * fnlwgt',\n",
       " 'marital-status_ Married-civ-spouse * education-num',\n",
       " 'marital-status_ Married-civ-spouse * capital-gain',\n",
       " 'marital-status_ Married-civ-spouse * capital-loss',\n",
       " 'marital-status_ Married-civ-spouse * hours-per-week',\n",
       " 'marital-status_ Married-civ-spouse * workclass_ Local-gov',\n",
       " 'marital-status_ Married-civ-spouse * workclass_ Private',\n",
       " 'marital-status_ Married-civ-spouse * workclass_ Self-emp-inc',\n",
       " 'marital-status_ Married-civ-spouse * workclass_ Self-emp-not-inc',\n",
       " 'marital-status_ Married-civ-spouse * education_ Bachelors',\n",
       " 'marital-status_ Married-civ-spouse * education_ HS-grad',\n",
       " 'marital-status_ Married-civ-spouse * education_ Masters',\n",
       " 'marital-status_ Married-civ-spouse * education_ Prof-school',\n",
       " 'marital-status_ Married-civ-spouse * education_ Some-college',\n",
       " 'marital-status_ Married-civ-spouse * marital-status_ Married-civ-spouse',\n",
       " 'marital-status_ Married-civ-spouse * occupation_ Adm-clerical',\n",
       " 'marital-status_ Married-civ-spouse * occupation_ Craft-repair',\n",
       " 'marital-status_ Married-civ-spouse * occupation_ Exec-managerial',\n",
       " 'marital-status_ Married-civ-spouse * occupation_ Farming-fishing',\n",
       " 'marital-status_ Married-civ-spouse * occupation_ Machine-op-inspct',\n",
       " 'marital-status_ Married-civ-spouse * occupation_ Other-service',\n",
       " 'marital-status_ Married-civ-spouse * occupation_ Prof-specialty',\n",
       " 'marital-status_ Married-civ-spouse * occupation_ Protective-serv',\n",
       " 'marital-status_ Married-civ-spouse * occupation_ Sales',\n",
       " 'marital-status_ Married-civ-spouse * occupation_ Tech-support',\n",
       " 'marital-status_ Married-civ-spouse * occupation_ Transport-moving',\n",
       " 'marital-status_ Married-civ-spouse * relationship_ Wife',\n",
       " 'marital-status_ Married-civ-spouse * sex_ Male',\n",
       " 'marital-status_ Married-civ-spouse * native-country_ Mexico',\n",
       " 'marital-status_ Married-civ-spouse * native-country_ United-States',\n",
       " 'marital-status_ Never-married * age',\n",
       " 'marital-status_ Never-married * fnlwgt',\n",
       " 'marital-status_ Never-married * education-num',\n",
       " 'marital-status_ Never-married * capital-gain',\n",
       " 'marital-status_ Never-married * capital-loss',\n",
       " 'marital-status_ Never-married * hours-per-week',\n",
       " 'marital-status_ Never-married * workclass_ Private',\n",
       " 'marital-status_ Never-married * education_ Bachelors',\n",
       " 'marital-status_ Never-married * education_ HS-grad',\n",
       " 'marital-status_ Never-married * education_ Some-college',\n",
       " 'marital-status_ Never-married * marital-status_ Never-married',\n",
       " 'marital-status_ Never-married * occupation_ Other-service',\n",
       " 'marital-status_ Never-married * occupation_ Prof-specialty',\n",
       " 'marital-status_ Never-married * relationship_ Not-in-family',\n",
       " 'marital-status_ Never-married * relationship_ Own-child',\n",
       " 'marital-status_ Never-married * sex_ Male',\n",
       " 'marital-status_ Never-married * native-country_ United-States',\n",
       " 'marital-status_ Widowed * age',\n",
       " 'marital-status_ Widowed * fnlwgt',\n",
       " 'marital-status_ Widowed * hours-per-week',\n",
       " 'marital-status_ Widowed * native-country_ United-States',\n",
       " 'occupation_ Exec-managerial * age',\n",
       " 'occupation_ Exec-managerial * fnlwgt',\n",
       " 'occupation_ Exec-managerial * education-num',\n",
       " 'occupation_ Exec-managerial * capital-gain',\n",
       " 'occupation_ Exec-managerial * capital-loss',\n",
       " 'occupation_ Exec-managerial * hours-per-week',\n",
       " 'occupation_ Exec-managerial * workclass_ Private',\n",
       " 'occupation_ Exec-managerial * workclass_ Self-emp-not-inc',\n",
       " 'occupation_ Exec-managerial * education_ Bachelors',\n",
       " 'occupation_ Exec-managerial * education_ Masters',\n",
       " 'occupation_ Exec-managerial * marital-status_ Married-civ-spouse',\n",
       " 'occupation_ Exec-managerial * marital-status_ Never-married',\n",
       " 'occupation_ Exec-managerial * occupation_ Exec-managerial',\n",
       " 'occupation_ Exec-managerial * relationship_ Not-in-family',\n",
       " 'occupation_ Exec-managerial * relationship_ Wife',\n",
       " 'occupation_ Exec-managerial * sex_ Male',\n",
       " 'occupation_ Exec-managerial * native-country_ United-States',\n",
       " 'occupation_ Handlers-cleaners * age',\n",
       " 'occupation_ Handlers-cleaners * fnlwgt',\n",
       " 'occupation_ Handlers-cleaners * education-num',\n",
       " 'occupation_ Handlers-cleaners * hours-per-week',\n",
       " 'occupation_ Handlers-cleaners * marital-status_ Married-civ-spouse',\n",
       " 'occupation_ Handlers-cleaners * sex_ Male',\n",
       " 'occupation_ Other-service * age',\n",
       " 'occupation_ Other-service * fnlwgt',\n",
       " 'occupation_ Other-service * education-num',\n",
       " 'occupation_ Other-service * hours-per-week',\n",
       " 'occupation_ Other-service * workclass_ Private',\n",
       " 'occupation_ Other-service * marital-status_ Married-civ-spouse',\n",
       " 'occupation_ Other-service * marital-status_ Never-married',\n",
       " 'occupation_ Other-service * occupation_ Other-service',\n",
       " 'occupation_ Other-service * sex_ Male',\n",
       " 'occupation_ Other-service * native-country_ United-States',\n",
       " 'occupation_ Prof-specialty * age',\n",
       " 'occupation_ Prof-specialty * fnlwgt',\n",
       " 'occupation_ Prof-specialty * education-num',\n",
       " 'occupation_ Prof-specialty * capital-gain',\n",
       " 'occupation_ Prof-specialty * hours-per-week',\n",
       " 'occupation_ Prof-specialty * workclass_ Local-gov',\n",
       " 'occupation_ Prof-specialty * workclass_ Private',\n",
       " 'occupation_ Prof-specialty * workclass_ Self-emp-not-inc',\n",
       " 'occupation_ Prof-specialty * education_ Prof-school',\n",
       " 'occupation_ Prof-specialty * marital-status_ Married-civ-spouse',\n",
       " 'occupation_ Prof-specialty * marital-status_ Never-married',\n",
       " 'occupation_ Prof-specialty * occupation_ Prof-specialty',\n",
       " 'occupation_ Prof-specialty * relationship_ Not-in-family',\n",
       " 'occupation_ Prof-specialty * sex_ Male',\n",
       " 'occupation_ Prof-specialty * native-country_ United-States',\n",
       " 'occupation_ Sales * age',\n",
       " 'occupation_ Sales * fnlwgt',\n",
       " 'occupation_ Sales * education-num',\n",
       " 'occupation_ Sales * capital-gain',\n",
       " 'occupation_ Sales * hours-per-week',\n",
       " 'occupation_ Sales * workclass_ Private',\n",
       " 'occupation_ Sales * marital-status_ Married-civ-spouse',\n",
       " 'occupation_ Sales * occupation_ Sales',\n",
       " 'occupation_ Sales * sex_ Male',\n",
       " 'occupation_ Sales * native-country_ United-States',\n",
       " 'occupation_ Transport-moving * age',\n",
       " 'occupation_ Transport-moving * fnlwgt',\n",
       " 'occupation_ Transport-moving * education-num',\n",
       " 'occupation_ Transport-moving * hours-per-week',\n",
       " 'occupation_ Transport-moving * workclass_ Private',\n",
       " 'occupation_ Transport-moving * marital-status_ Married-civ-spouse',\n",
       " 'occupation_ Transport-moving * occupation_ Transport-moving',\n",
       " 'occupation_ Transport-moving * sex_ Male',\n",
       " 'occupation_ Transport-moving * native-country_ United-States',\n",
       " 'relationship_ Other-relative * hours-per-week',\n",
       " 'relationship_ Unmarried * age',\n",
       " 'relationship_ Unmarried * fnlwgt',\n",
       " 'relationship_ Unmarried * education-num',\n",
       " 'relationship_ Unmarried * capital-gain',\n",
       " 'relationship_ Unmarried * hours-per-week',\n",
       " 'relationship_ Unmarried * workclass_ Private',\n",
       " 'relationship_ Unmarried * education_ HS-grad',\n",
       " 'relationship_ Unmarried * relationship_ Unmarried',\n",
       " 'relationship_ Unmarried * native-country_ United-States',\n",
       " 'sex_ Male * age',\n",
       " 'sex_ Male * fnlwgt',\n",
       " 'sex_ Male * education-num',\n",
       " 'sex_ Male * capital-gain',\n",
       " 'sex_ Male * capital-loss',\n",
       " 'sex_ Male * hours-per-week',\n",
       " 'sex_ Male * workclass_ Local-gov',\n",
       " 'sex_ Male * workclass_ Private',\n",
       " 'sex_ Male * workclass_ Self-emp-inc',\n",
       " 'sex_ Male * workclass_ Self-emp-not-inc',\n",
       " 'sex_ Male * workclass_ State-gov',\n",
       " 'sex_ Male * education_ Bachelors',\n",
       " 'sex_ Male * education_ HS-grad',\n",
       " 'sex_ Male * education_ Masters',\n",
       " 'sex_ Male * education_ Prof-school',\n",
       " 'sex_ Male * education_ Some-college',\n",
       " 'sex_ Male * marital-status_ Married-civ-spouse',\n",
       " 'sex_ Male * marital-status_ Never-married',\n",
       " 'sex_ Male * occupation_ Adm-clerical',\n",
       " 'sex_ Male * occupation_ Craft-repair',\n",
       " 'sex_ Male * occupation_ Exec-managerial',\n",
       " 'sex_ Male * occupation_ Farming-fishing',\n",
       " 'sex_ Male * occupation_ Machine-op-inspct',\n",
       " 'sex_ Male * occupation_ Other-service',\n",
       " 'sex_ Male * occupation_ Prof-specialty',\n",
       " 'sex_ Male * occupation_ Protective-serv',\n",
       " 'sex_ Male * occupation_ Sales',\n",
       " 'sex_ Male * occupation_ Tech-support',\n",
       " 'sex_ Male * occupation_ Transport-moving',\n",
       " 'sex_ Male * relationship_ Not-in-family',\n",
       " 'sex_ Male * relationship_ Own-child',\n",
       " 'sex_ Male * sex_ Male',\n",
       " 'sex_ Male * native-country_ United-States',\n",
       " 'native-country_ United-States * age',\n",
       " 'native-country_ United-States * fnlwgt',\n",
       " 'native-country_ United-States * education-num',\n",
       " 'native-country_ United-States * capital-gain',\n",
       " 'native-country_ United-States * capital-loss',\n",
       " 'native-country_ United-States * hours-per-week',\n",
       " 'native-country_ United-States * workclass_ Federal-gov',\n",
       " 'native-country_ United-States * workclass_ Local-gov',\n",
       " 'native-country_ United-States * workclass_ Private',\n",
       " 'native-country_ United-States * workclass_ Self-emp-inc',\n",
       " 'native-country_ United-States * workclass_ Self-emp-not-inc',\n",
       " 'native-country_ United-States * workclass_ State-gov',\n",
       " 'native-country_ United-States * education_ Assoc-voc',\n",
       " 'native-country_ United-States * education_ Bachelors',\n",
       " 'native-country_ United-States * education_ Doctorate',\n",
       " 'native-country_ United-States * education_ HS-grad',\n",
       " 'native-country_ United-States * education_ Masters',\n",
       " 'native-country_ United-States * education_ Prof-school',\n",
       " 'native-country_ United-States * education_ Some-college',\n",
       " 'native-country_ United-States * marital-status_ Married-civ-spouse',\n",
       " 'native-country_ United-States * marital-status_ Never-married',\n",
       " 'native-country_ United-States * marital-status_ Widowed',\n",
       " 'native-country_ United-States * occupation_ Adm-clerical',\n",
       " 'native-country_ United-States * occupation_ Craft-repair',\n",
       " 'native-country_ United-States * occupation_ Exec-managerial',\n",
       " 'native-country_ United-States * occupation_ Farming-fishing',\n",
       " 'native-country_ United-States * occupation_ Machine-op-inspct',\n",
       " 'native-country_ United-States * occupation_ Other-service',\n",
       " 'native-country_ United-States * occupation_ Prof-specialty',\n",
       " 'native-country_ United-States * occupation_ Protective-serv',\n",
       " 'native-country_ United-States * occupation_ Sales',\n",
       " 'native-country_ United-States * occupation_ Tech-support',\n",
       " 'native-country_ United-States * occupation_ Transport-moving',\n",
       " 'native-country_ United-States * relationship_ Not-in-family',\n",
       " 'native-country_ United-States * relationship_ Own-child',\n",
       " 'native-country_ United-States * relationship_ Unmarried',\n",
       " 'native-country_ United-States * relationship_ Wife',\n",
       " 'native-country_ United-States * sex_ Male',\n",
       " 'native-country_ United-States * native-country_ United-States']"
      ]
     },
     "execution_count": 326,
     "metadata": {},
     "output_type": "execute_result"
    }
   ],
   "source": [
    "list(X_selected.columns)"
   ]
  },
  {
   "cell_type": "code",
   "execution_count": 343,
   "metadata": {
    "ExecuteTime": {
     "end_time": "2020-02-03T20:18:27.383605Z",
     "start_time": "2020-02-03T20:18:27.377611Z"
    }
   },
   "outputs": [],
   "source": [
    "X_selected.reset_index(inplace=True)"
   ]
  },
  {
   "cell_type": "code",
   "execution_count": 344,
   "metadata": {
    "ExecuteTime": {
     "end_time": "2020-02-03T20:18:50.596777Z",
     "start_time": "2020-02-03T20:18:28.924613Z"
    }
   },
   "outputs": [],
   "source": [
    "X_selected.to_csv('../data/feature_selected.csv',index=False)"
   ]
  },
  {
   "cell_type": "code",
   "execution_count": 358,
   "metadata": {
    "ExecuteTime": {
     "end_time": "2020-02-03T20:21:01.293761Z",
     "start_time": "2020-02-03T20:21:01.284749Z"
    }
   },
   "outputs": [],
   "source": [
    "y= y.reset_index()"
   ]
  },
  {
   "cell_type": "code",
   "execution_count": 359,
   "metadata": {
    "ExecuteTime": {
     "end_time": "2020-02-03T20:21:17.791745Z",
     "start_time": "2020-02-03T20:21:17.603756Z"
    }
   },
   "outputs": [],
   "source": [
    "y.to_csv('../data/y_bootstrapped.csv', index=False)"
   ]
  },
  {
   "cell_type": "code",
   "execution_count": 340,
   "metadata": {
    "ExecuteTime": {
     "end_time": "2020-02-03T20:17:00.339102Z",
     "start_time": "2020-02-03T20:17:00.332103Z"
    }
   },
   "outputs": [
    {
     "data": {
      "text/plain": [
       "(49440,)"
      ]
     },
     "execution_count": 340,
     "metadata": {},
     "output_type": "execute_result"
    }
   ],
   "source": []
  },
  {
   "cell_type": "code",
   "execution_count": 334,
   "metadata": {
    "ExecuteTime": {
     "end_time": "2020-02-03T20:16:00.266595Z",
     "start_time": "2020-02-03T20:16:00.029627Z"
    }
   },
   "outputs": [],
   "source": [
    "X_train, X_test, y_train, y_test = train_test_split(X_selected,y, random_state = 2)"
   ]
  },
  {
   "cell_type": "code",
   "execution_count": 335,
   "metadata": {
    "ExecuteTime": {
     "end_time": "2020-02-03T20:16:19.826601Z",
     "start_time": "2020-02-03T20:16:01.012601Z"
    }
   },
   "outputs": [
    {
     "data": {
      "text/plain": [
       "RandomForestClassifier(bootstrap=True, class_weight=None, criterion='gini',\n",
       "                       max_depth=None, max_features='auto', max_leaf_nodes=None,\n",
       "                       min_impurity_decrease=0.0, min_impurity_split=None,\n",
       "                       min_samples_leaf=1, min_samples_split=2,\n",
       "                       min_weight_fraction_leaf=0.0, n_estimators=100,\n",
       "                       n_jobs=None, oob_score=False, random_state=None,\n",
       "                       verbose=0, warm_start=False)"
      ]
     },
     "execution_count": 335,
     "metadata": {},
     "output_type": "execute_result"
    }
   ],
   "source": [
    "rf_2 = RandomForestClassifier(n_estimators=100)\n",
    "rf_2.fit(X_train, y_train)"
   ]
  },
  {
   "cell_type": "code",
   "execution_count": 336,
   "metadata": {
    "ExecuteTime": {
     "end_time": "2020-02-03T20:16:22.251613Z",
     "start_time": "2020-02-03T20:16:19.829598Z"
    }
   },
   "outputs": [
    {
     "data": {
      "text/plain": [
       "(0.9999730312837108, 0.9263754045307443)"
      ]
     },
     "execution_count": 336,
     "metadata": {},
     "output_type": "execute_result"
    }
   ],
   "source": [
    "rf_2.score(X_train, y_train), rf_2.score(X_test, y_test)"
   ]
  },
  {
   "cell_type": "code",
   "execution_count": 337,
   "metadata": {
    "ExecuteTime": {
     "end_time": "2020-02-03T20:16:24.533600Z",
     "start_time": "2020-02-03T20:16:22.254616Z"
    }
   },
   "outputs": [
    {
     "data": {
      "text/plain": [
       "(0.9166325943906417, 0.8089722734627766)"
      ]
     },
     "execution_count": 337,
     "metadata": {},
     "output_type": "execute_result"
    }
   ],
   "source": [
    "((rf_2.predict_proba(X_train)[:,0] - y_train)**2).mean(), ((rf_2.predict_proba(X_test)[:,0] - y_test)**2).mean()"
   ]
  },
  {
   "cell_type": "code",
   "execution_count": 338,
   "metadata": {
    "ExecuteTime": {
     "end_time": "2020-02-03T20:16:26.938615Z",
     "start_time": "2020-02-03T20:16:24.536598Z"
    }
   },
   "outputs": [
    {
     "data": {
      "text/plain": [
       "(1.0, 0.9822717635006202)"
      ]
     },
     "execution_count": 338,
     "metadata": {},
     "output_type": "execute_result"
    }
   ],
   "source": [
    "roc_auc_score(y_train, rf_2.predict_proba(X_train)[:,1]), roc_auc_score(y_test, rf_2.predict_proba(X_test)[:,1])"
   ]
  },
  {
   "cell_type": "code",
   "execution_count": 291,
   "metadata": {
    "ExecuteTime": {
     "end_time": "2020-02-03T19:32:20.664797Z",
     "start_time": "2020-02-03T19:32:20.531798Z"
    }
   },
   "outputs": [
    {
     "name": "stderr",
     "output_type": "stream",
     "text": [
      "C:\\Users\\Zachary\\.conda\\envs\\dsi\\lib\\site-packages\\ipykernel_launcher.py:1: FutureWarning: The signature of `Series.to_csv` was aligned to that of `DataFrame.to_csv`, and argument 'header' will change its default value from False to True: please pass an explicit value to suppress this warning.\n",
      "  \"\"\"Entry point for launching an IPython kernel.\n"
     ]
    }
   ],
   "source": [
    "y.to_csv('../data/test_engineered.csv', index=False)"
   ]
  },
  {
   "cell_type": "code",
   "execution_count": 231,
   "metadata": {
    "ExecuteTime": {
     "end_time": "2020-02-03T18:34:28.734607Z",
     "start_time": "2020-02-03T18:34:28.527585Z"
    }
   },
   "outputs": [],
   "source": [
    "test = pd.read_csv('../data/clean_test.csv')"
   ]
  },
  {
   "cell_type": "code",
   "execution_count": 232,
   "metadata": {
    "ExecuteTime": {
     "end_time": "2020-02-03T18:34:28.742606Z",
     "start_time": "2020-02-03T18:34:28.738586Z"
    }
   },
   "outputs": [],
   "source": [
    "X_submit = test"
   ]
  },
  {
   "cell_type": "code",
   "execution_count": 233,
   "metadata": {
    "ExecuteTime": {
     "end_time": "2020-02-03T18:34:59.812680Z",
     "start_time": "2020-02-03T18:34:28.745582Z"
    }
   },
   "outputs": [],
   "source": [
    "remaining = list(X_submit.columns)\n",
    "starting = list(X_submit.columns)\n",
    "for col in remaining:\n",
    "    for col_2 in starting:\n",
    "        X_submit[f'{col} * {col_2}'] = X_submit[f'{col}'] * X_submit[f'{col_2}']\n",
    "    remaining.remove(col)"
   ]
  },
  {
   "cell_type": "code",
   "execution_count": 292,
   "metadata": {
    "ExecuteTime": {
     "end_time": "2020-02-03T19:41:45.487284Z",
     "start_time": "2020-02-03T19:41:45.449273Z"
    }
   },
   "outputs": [
    {
     "data": {
      "text/html": [
       "<div>\n",
       "<style scoped>\n",
       "    .dataframe tbody tr th:only-of-type {\n",
       "        vertical-align: middle;\n",
       "    }\n",
       "\n",
       "    .dataframe tbody tr th {\n",
       "        vertical-align: top;\n",
       "    }\n",
       "\n",
       "    .dataframe thead th {\n",
       "        text-align: right;\n",
       "    }\n",
       "</style>\n",
       "<table border=\"1\" class=\"dataframe\">\n",
       "  <thead>\n",
       "    <tr style=\"text-align: right;\">\n",
       "      <th></th>\n",
       "      <th>age</th>\n",
       "      <th>fnlwgt</th>\n",
       "      <th>education-num</th>\n",
       "      <th>capital-gain</th>\n",
       "      <th>capital-loss</th>\n",
       "      <th>hours-per-week</th>\n",
       "      <th>workclass_ Federal-gov</th>\n",
       "      <th>workclass_ Local-gov</th>\n",
       "      <th>workclass_ Private</th>\n",
       "      <th>workclass_ Self-emp-inc</th>\n",
       "      <th>...</th>\n",
       "      <th>native-country_ Yugoslavia * education_ HS-grad</th>\n",
       "      <th>native-country_ Yugoslavia * education_ Some-college</th>\n",
       "      <th>native-country_ Yugoslavia * marital-status_ Married-civ-spouse</th>\n",
       "      <th>native-country_ Yugoslavia * occupation_ Craft-repair</th>\n",
       "      <th>native-country_ Yugoslavia * occupation_ Exec-managerial</th>\n",
       "      <th>native-country_ Yugoslavia * occupation_ Farming-fishing</th>\n",
       "      <th>native-country_ Yugoslavia * occupation_ Other-service</th>\n",
       "      <th>native-country_ Yugoslavia * relationship_ Wife</th>\n",
       "      <th>native-country_ Yugoslavia * sex_ Male</th>\n",
       "      <th>native-country_ Yugoslavia * native-country_ Yugoslavia</th>\n",
       "    </tr>\n",
       "  </thead>\n",
       "  <tbody>\n",
       "    <tr>\n",
       "      <th>0</th>\n",
       "      <td>25</td>\n",
       "      <td>226802</td>\n",
       "      <td>7</td>\n",
       "      <td>0</td>\n",
       "      <td>0</td>\n",
       "      <td>40</td>\n",
       "      <td>0</td>\n",
       "      <td>0</td>\n",
       "      <td>1</td>\n",
       "      <td>0</td>\n",
       "      <td>...</td>\n",
       "      <td>0</td>\n",
       "      <td>0</td>\n",
       "      <td>0</td>\n",
       "      <td>0</td>\n",
       "      <td>0</td>\n",
       "      <td>0</td>\n",
       "      <td>0</td>\n",
       "      <td>0</td>\n",
       "      <td>0</td>\n",
       "      <td>0</td>\n",
       "    </tr>\n",
       "    <tr>\n",
       "      <th>1</th>\n",
       "      <td>38</td>\n",
       "      <td>89814</td>\n",
       "      <td>9</td>\n",
       "      <td>0</td>\n",
       "      <td>0</td>\n",
       "      <td>50</td>\n",
       "      <td>0</td>\n",
       "      <td>0</td>\n",
       "      <td>1</td>\n",
       "      <td>0</td>\n",
       "      <td>...</td>\n",
       "      <td>0</td>\n",
       "      <td>0</td>\n",
       "      <td>0</td>\n",
       "      <td>0</td>\n",
       "      <td>0</td>\n",
       "      <td>0</td>\n",
       "      <td>0</td>\n",
       "      <td>0</td>\n",
       "      <td>0</td>\n",
       "      <td>0</td>\n",
       "    </tr>\n",
       "    <tr>\n",
       "      <th>2</th>\n",
       "      <td>28</td>\n",
       "      <td>336951</td>\n",
       "      <td>12</td>\n",
       "      <td>0</td>\n",
       "      <td>0</td>\n",
       "      <td>40</td>\n",
       "      <td>0</td>\n",
       "      <td>1</td>\n",
       "      <td>0</td>\n",
       "      <td>0</td>\n",
       "      <td>...</td>\n",
       "      <td>0</td>\n",
       "      <td>0</td>\n",
       "      <td>0</td>\n",
       "      <td>0</td>\n",
       "      <td>0</td>\n",
       "      <td>0</td>\n",
       "      <td>0</td>\n",
       "      <td>0</td>\n",
       "      <td>0</td>\n",
       "      <td>0</td>\n",
       "    </tr>\n",
       "    <tr>\n",
       "      <th>3</th>\n",
       "      <td>44</td>\n",
       "      <td>160323</td>\n",
       "      <td>10</td>\n",
       "      <td>7688</td>\n",
       "      <td>0</td>\n",
       "      <td>40</td>\n",
       "      <td>0</td>\n",
       "      <td>0</td>\n",
       "      <td>1</td>\n",
       "      <td>0</td>\n",
       "      <td>...</td>\n",
       "      <td>0</td>\n",
       "      <td>0</td>\n",
       "      <td>0</td>\n",
       "      <td>0</td>\n",
       "      <td>0</td>\n",
       "      <td>0</td>\n",
       "      <td>0</td>\n",
       "      <td>0</td>\n",
       "      <td>0</td>\n",
       "      <td>0</td>\n",
       "    </tr>\n",
       "    <tr>\n",
       "      <th>4</th>\n",
       "      <td>18</td>\n",
       "      <td>103497</td>\n",
       "      <td>10</td>\n",
       "      <td>0</td>\n",
       "      <td>0</td>\n",
       "      <td>30</td>\n",
       "      <td>0</td>\n",
       "      <td>0</td>\n",
       "      <td>0</td>\n",
       "      <td>0</td>\n",
       "      <td>...</td>\n",
       "      <td>0</td>\n",
       "      <td>0</td>\n",
       "      <td>0</td>\n",
       "      <td>0</td>\n",
       "      <td>0</td>\n",
       "      <td>0</td>\n",
       "      <td>0</td>\n",
       "      <td>0</td>\n",
       "      <td>0</td>\n",
       "      <td>0</td>\n",
       "    </tr>\n",
       "    <tr>\n",
       "      <th>...</th>\n",
       "      <td>...</td>\n",
       "      <td>...</td>\n",
       "      <td>...</td>\n",
       "      <td>...</td>\n",
       "      <td>...</td>\n",
       "      <td>...</td>\n",
       "      <td>...</td>\n",
       "      <td>...</td>\n",
       "      <td>...</td>\n",
       "      <td>...</td>\n",
       "      <td>...</td>\n",
       "      <td>...</td>\n",
       "      <td>...</td>\n",
       "      <td>...</td>\n",
       "      <td>...</td>\n",
       "      <td>...</td>\n",
       "      <td>...</td>\n",
       "      <td>...</td>\n",
       "      <td>...</td>\n",
       "      <td>...</td>\n",
       "      <td>...</td>\n",
       "    </tr>\n",
       "    <tr>\n",
       "      <th>16276</th>\n",
       "      <td>39</td>\n",
       "      <td>215419</td>\n",
       "      <td>13</td>\n",
       "      <td>0</td>\n",
       "      <td>0</td>\n",
       "      <td>36</td>\n",
       "      <td>0</td>\n",
       "      <td>0</td>\n",
       "      <td>1</td>\n",
       "      <td>0</td>\n",
       "      <td>...</td>\n",
       "      <td>0</td>\n",
       "      <td>0</td>\n",
       "      <td>0</td>\n",
       "      <td>0</td>\n",
       "      <td>0</td>\n",
       "      <td>0</td>\n",
       "      <td>0</td>\n",
       "      <td>0</td>\n",
       "      <td>0</td>\n",
       "      <td>0</td>\n",
       "    </tr>\n",
       "    <tr>\n",
       "      <th>16277</th>\n",
       "      <td>64</td>\n",
       "      <td>321403</td>\n",
       "      <td>9</td>\n",
       "      <td>0</td>\n",
       "      <td>0</td>\n",
       "      <td>40</td>\n",
       "      <td>0</td>\n",
       "      <td>0</td>\n",
       "      <td>0</td>\n",
       "      <td>0</td>\n",
       "      <td>...</td>\n",
       "      <td>0</td>\n",
       "      <td>0</td>\n",
       "      <td>0</td>\n",
       "      <td>0</td>\n",
       "      <td>0</td>\n",
       "      <td>0</td>\n",
       "      <td>0</td>\n",
       "      <td>0</td>\n",
       "      <td>0</td>\n",
       "      <td>0</td>\n",
       "    </tr>\n",
       "    <tr>\n",
       "      <th>16278</th>\n",
       "      <td>38</td>\n",
       "      <td>374983</td>\n",
       "      <td>13</td>\n",
       "      <td>0</td>\n",
       "      <td>0</td>\n",
       "      <td>50</td>\n",
       "      <td>0</td>\n",
       "      <td>0</td>\n",
       "      <td>1</td>\n",
       "      <td>0</td>\n",
       "      <td>...</td>\n",
       "      <td>0</td>\n",
       "      <td>0</td>\n",
       "      <td>0</td>\n",
       "      <td>0</td>\n",
       "      <td>0</td>\n",
       "      <td>0</td>\n",
       "      <td>0</td>\n",
       "      <td>0</td>\n",
       "      <td>0</td>\n",
       "      <td>0</td>\n",
       "    </tr>\n",
       "    <tr>\n",
       "      <th>16279</th>\n",
       "      <td>44</td>\n",
       "      <td>83891</td>\n",
       "      <td>13</td>\n",
       "      <td>5455</td>\n",
       "      <td>0</td>\n",
       "      <td>40</td>\n",
       "      <td>0</td>\n",
       "      <td>0</td>\n",
       "      <td>1</td>\n",
       "      <td>0</td>\n",
       "      <td>...</td>\n",
       "      <td>0</td>\n",
       "      <td>0</td>\n",
       "      <td>0</td>\n",
       "      <td>0</td>\n",
       "      <td>0</td>\n",
       "      <td>0</td>\n",
       "      <td>0</td>\n",
       "      <td>0</td>\n",
       "      <td>0</td>\n",
       "      <td>0</td>\n",
       "    </tr>\n",
       "    <tr>\n",
       "      <th>16280</th>\n",
       "      <td>35</td>\n",
       "      <td>182148</td>\n",
       "      <td>13</td>\n",
       "      <td>0</td>\n",
       "      <td>0</td>\n",
       "      <td>60</td>\n",
       "      <td>0</td>\n",
       "      <td>0</td>\n",
       "      <td>0</td>\n",
       "      <td>1</td>\n",
       "      <td>...</td>\n",
       "      <td>0</td>\n",
       "      <td>0</td>\n",
       "      <td>0</td>\n",
       "      <td>0</td>\n",
       "      <td>0</td>\n",
       "      <td>0</td>\n",
       "      <td>0</td>\n",
       "      <td>0</td>\n",
       "      <td>0</td>\n",
       "      <td>0</td>\n",
       "    </tr>\n",
       "  </tbody>\n",
       "</table>\n",
       "<p>16281 rows × 2328 columns</p>\n",
       "</div>"
      ],
      "text/plain": [
       "       age  fnlwgt  education-num  capital-gain  capital-loss  hours-per-week  \\\n",
       "0       25  226802              7             0             0              40   \n",
       "1       38   89814              9             0             0              50   \n",
       "2       28  336951             12             0             0              40   \n",
       "3       44  160323             10          7688             0              40   \n",
       "4       18  103497             10             0             0              30   \n",
       "...    ...     ...            ...           ...           ...             ...   \n",
       "16276   39  215419             13             0             0              36   \n",
       "16277   64  321403              9             0             0              40   \n",
       "16278   38  374983             13             0             0              50   \n",
       "16279   44   83891             13          5455             0              40   \n",
       "16280   35  182148             13             0             0              60   \n",
       "\n",
       "       workclass_ Federal-gov  workclass_ Local-gov  workclass_ Private  \\\n",
       "0                           0                     0                   1   \n",
       "1                           0                     0                   1   \n",
       "2                           0                     1                   0   \n",
       "3                           0                     0                   1   \n",
       "4                           0                     0                   0   \n",
       "...                       ...                   ...                 ...   \n",
       "16276                       0                     0                   1   \n",
       "16277                       0                     0                   0   \n",
       "16278                       0                     0                   1   \n",
       "16279                       0                     0                   1   \n",
       "16280                       0                     0                   0   \n",
       "\n",
       "       workclass_ Self-emp-inc  ...  \\\n",
       "0                            0  ...   \n",
       "1                            0  ...   \n",
       "2                            0  ...   \n",
       "3                            0  ...   \n",
       "4                            0  ...   \n",
       "...                        ...  ...   \n",
       "16276                        0  ...   \n",
       "16277                        0  ...   \n",
       "16278                        0  ...   \n",
       "16279                        0  ...   \n",
       "16280                        1  ...   \n",
       "\n",
       "       native-country_ Yugoslavia * education_ HS-grad  \\\n",
       "0                                                    0   \n",
       "1                                                    0   \n",
       "2                                                    0   \n",
       "3                                                    0   \n",
       "4                                                    0   \n",
       "...                                                ...   \n",
       "16276                                                0   \n",
       "16277                                                0   \n",
       "16278                                                0   \n",
       "16279                                                0   \n",
       "16280                                                0   \n",
       "\n",
       "       native-country_ Yugoslavia * education_ Some-college  \\\n",
       "0                                                      0      \n",
       "1                                                      0      \n",
       "2                                                      0      \n",
       "3                                                      0      \n",
       "4                                                      0      \n",
       "...                                                  ...      \n",
       "16276                                                  0      \n",
       "16277                                                  0      \n",
       "16278                                                  0      \n",
       "16279                                                  0      \n",
       "16280                                                  0      \n",
       "\n",
       "       native-country_ Yugoslavia * marital-status_ Married-civ-spouse  \\\n",
       "0                                                      0                 \n",
       "1                                                      0                 \n",
       "2                                                      0                 \n",
       "3                                                      0                 \n",
       "4                                                      0                 \n",
       "...                                                  ...                 \n",
       "16276                                                  0                 \n",
       "16277                                                  0                 \n",
       "16278                                                  0                 \n",
       "16279                                                  0                 \n",
       "16280                                                  0                 \n",
       "\n",
       "       native-country_ Yugoslavia * occupation_ Craft-repair  \\\n",
       "0                                                      0       \n",
       "1                                                      0       \n",
       "2                                                      0       \n",
       "3                                                      0       \n",
       "4                                                      0       \n",
       "...                                                  ...       \n",
       "16276                                                  0       \n",
       "16277                                                  0       \n",
       "16278                                                  0       \n",
       "16279                                                  0       \n",
       "16280                                                  0       \n",
       "\n",
       "       native-country_ Yugoslavia * occupation_ Exec-managerial  \\\n",
       "0                                                      0          \n",
       "1                                                      0          \n",
       "2                                                      0          \n",
       "3                                                      0          \n",
       "4                                                      0          \n",
       "...                                                  ...          \n",
       "16276                                                  0          \n",
       "16277                                                  0          \n",
       "16278                                                  0          \n",
       "16279                                                  0          \n",
       "16280                                                  0          \n",
       "\n",
       "       native-country_ Yugoslavia * occupation_ Farming-fishing  \\\n",
       "0                                                      0          \n",
       "1                                                      0          \n",
       "2                                                      0          \n",
       "3                                                      0          \n",
       "4                                                      0          \n",
       "...                                                  ...          \n",
       "16276                                                  0          \n",
       "16277                                                  0          \n",
       "16278                                                  0          \n",
       "16279                                                  0          \n",
       "16280                                                  0          \n",
       "\n",
       "       native-country_ Yugoslavia * occupation_ Other-service  \\\n",
       "0                                                      0        \n",
       "1                                                      0        \n",
       "2                                                      0        \n",
       "3                                                      0        \n",
       "4                                                      0        \n",
       "...                                                  ...        \n",
       "16276                                                  0        \n",
       "16277                                                  0        \n",
       "16278                                                  0        \n",
       "16279                                                  0        \n",
       "16280                                                  0        \n",
       "\n",
       "       native-country_ Yugoslavia * relationship_ Wife  \\\n",
       "0                                                    0   \n",
       "1                                                    0   \n",
       "2                                                    0   \n",
       "3                                                    0   \n",
       "4                                                    0   \n",
       "...                                                ...   \n",
       "16276                                                0   \n",
       "16277                                                0   \n",
       "16278                                                0   \n",
       "16279                                                0   \n",
       "16280                                                0   \n",
       "\n",
       "       native-country_ Yugoslavia * sex_ Male  \\\n",
       "0                                           0   \n",
       "1                                           0   \n",
       "2                                           0   \n",
       "3                                           0   \n",
       "4                                           0   \n",
       "...                                       ...   \n",
       "16276                                       0   \n",
       "16277                                       0   \n",
       "16278                                       0   \n",
       "16279                                       0   \n",
       "16280                                       0   \n",
       "\n",
       "       native-country_ Yugoslavia * native-country_ Yugoslavia  \n",
       "0                                                      0        \n",
       "1                                                      0        \n",
       "2                                                      0        \n",
       "3                                                      0        \n",
       "4                                                      0        \n",
       "...                                                  ...        \n",
       "16276                                                  0        \n",
       "16277                                                  0        \n",
       "16278                                                  0        \n",
       "16279                                                  0        \n",
       "16280                                                  0        \n",
       "\n",
       "[16281 rows x 2328 columns]"
      ]
     },
     "execution_count": 292,
     "metadata": {},
     "output_type": "execute_result"
    }
   ],
   "source": [
    "X_submit"
   ]
  },
  {
   "cell_type": "code",
   "execution_count": 298,
   "metadata": {
    "ExecuteTime": {
     "end_time": "2020-02-03T19:43:34.717272Z",
     "start_time": "2020-02-03T19:43:28.825268Z"
    }
   },
   "outputs": [
    {
     "name": "stderr",
     "output_type": "stream",
     "text": [
      "C:\\Users\\Zachary\\.conda\\envs\\dsi\\lib\\site-packages\\sklearn\\ensemble\\forest.py:245: FutureWarning: The default value of n_estimators will change from 10 in version 0.20 to 100 in 0.22.\n",
      "  \"10 in version 0.20 to 100 in 0.22.\", FutureWarning)\n"
     ]
    },
    {
     "data": {
      "text/plain": [
       "RandomForestClassifier(bootstrap=True, class_weight=None, criterion='gini',\n",
       "                       max_depth=None, max_features='auto', max_leaf_nodes=None,\n",
       "                       min_impurity_decrease=0.0, min_impurity_split=None,\n",
       "                       min_samples_leaf=1, min_samples_split=2,\n",
       "                       min_weight_fraction_leaf=0.0, n_estimators=10,\n",
       "                       n_jobs=None, oob_score=False, random_state=None,\n",
       "                       verbose=0, warm_start=False)"
      ]
     },
     "execution_count": 298,
     "metadata": {},
     "output_type": "execute_result"
    }
   ],
   "source": [
    "rf_final = RandomForestClassifier()\n",
    "rf_final.fit(X_selected, y)"
   ]
  },
  {
   "cell_type": "code",
   "execution_count": 299,
   "metadata": {
    "ExecuteTime": {
     "end_time": "2020-02-03T19:43:34.728271Z",
     "start_time": "2020-02-03T19:43:34.720272Z"
    }
   },
   "outputs": [],
   "source": [
    "good_features_submit = [val for val in good_features if val in X_submit.columns]"
   ]
  },
  {
   "cell_type": "code",
   "execution_count": 300,
   "metadata": {
    "ExecuteTime": {
     "end_time": "2020-02-03T19:43:35.014267Z",
     "start_time": "2020-02-03T19:43:34.731270Z"
    }
   },
   "outputs": [],
   "source": [
    "X_submit = X_submit[good_features_submit]"
   ]
  },
  {
   "cell_type": "code",
   "execution_count": 301,
   "metadata": {
    "ExecuteTime": {
     "end_time": "2020-02-03T19:43:35.339270Z",
     "start_time": "2020-02-03T19:43:35.017273Z"
    }
   },
   "outputs": [],
   "source": [
    "submit = pd.DataFrame({'wage':rf_final.predict_proba(X_submit)[:,1]})"
   ]
  },
  {
   "cell_type": "code",
   "execution_count": 302,
   "metadata": {
    "ExecuteTime": {
     "end_time": "2020-02-03T19:43:37.327287Z",
     "start_time": "2020-02-03T19:43:37.313267Z"
    }
   },
   "outputs": [
    {
     "data": {
      "text/html": [
       "<div>\n",
       "<style scoped>\n",
       "    .dataframe tbody tr th:only-of-type {\n",
       "        vertical-align: middle;\n",
       "    }\n",
       "\n",
       "    .dataframe tbody tr th {\n",
       "        vertical-align: top;\n",
       "    }\n",
       "\n",
       "    .dataframe thead th {\n",
       "        text-align: right;\n",
       "    }\n",
       "</style>\n",
       "<table border=\"1\" class=\"dataframe\">\n",
       "  <thead>\n",
       "    <tr style=\"text-align: right;\">\n",
       "      <th></th>\n",
       "      <th>wage</th>\n",
       "    </tr>\n",
       "  </thead>\n",
       "  <tbody>\n",
       "    <tr>\n",
       "      <th>0</th>\n",
       "      <td>0.0</td>\n",
       "    </tr>\n",
       "    <tr>\n",
       "      <th>1</th>\n",
       "      <td>0.1</td>\n",
       "    </tr>\n",
       "    <tr>\n",
       "      <th>2</th>\n",
       "      <td>0.5</td>\n",
       "    </tr>\n",
       "    <tr>\n",
       "      <th>3</th>\n",
       "      <td>0.9</td>\n",
       "    </tr>\n",
       "    <tr>\n",
       "      <th>4</th>\n",
       "      <td>0.0</td>\n",
       "    </tr>\n",
       "    <tr>\n",
       "      <th>...</th>\n",
       "      <td>...</td>\n",
       "    </tr>\n",
       "    <tr>\n",
       "      <th>16276</th>\n",
       "      <td>0.4</td>\n",
       "    </tr>\n",
       "    <tr>\n",
       "      <th>16277</th>\n",
       "      <td>0.1</td>\n",
       "    </tr>\n",
       "    <tr>\n",
       "      <th>16278</th>\n",
       "      <td>1.0</td>\n",
       "    </tr>\n",
       "    <tr>\n",
       "      <th>16279</th>\n",
       "      <td>0.6</td>\n",
       "    </tr>\n",
       "    <tr>\n",
       "      <th>16280</th>\n",
       "      <td>0.9</td>\n",
       "    </tr>\n",
       "  </tbody>\n",
       "</table>\n",
       "<p>16281 rows × 1 columns</p>\n",
       "</div>"
      ],
      "text/plain": [
       "       wage\n",
       "0       0.0\n",
       "1       0.1\n",
       "2       0.5\n",
       "3       0.9\n",
       "4       0.0\n",
       "...     ...\n",
       "16276   0.4\n",
       "16277   0.1\n",
       "16278   1.0\n",
       "16279   0.6\n",
       "16280   0.9\n",
       "\n",
       "[16281 rows x 1 columns]"
      ]
     },
     "execution_count": 302,
     "metadata": {},
     "output_type": "execute_result"
    }
   ],
   "source": [
    "submit"
   ]
  },
  {
   "cell_type": "code",
   "execution_count": 303,
   "metadata": {
    "ExecuteTime": {
     "end_time": "2020-02-03T19:43:52.848319Z",
     "start_time": "2020-02-03T19:43:52.749280Z"
    }
   },
   "outputs": [],
   "source": [
    "submit.to_csv('../data/team5_1.csv', index=False)"
   ]
  },
  {
   "cell_type": "code",
   "execution_count": null,
   "metadata": {},
   "outputs": [],
   "source": []
  }
 ],
 "metadata": {
  "kernelspec": {
   "display_name": "Python 3",
   "language": "python",
   "name": "python3"
  },
  "language_info": {
   "codemirror_mode": {
    "name": "ipython",
    "version": 3
   },
   "file_extension": ".py",
   "mimetype": "text/x-python",
   "name": "python",
   "nbconvert_exporter": "python",
   "pygments_lexer": "ipython3",
   "version": "3.7.5"
  }
 },
 "nbformat": 4,
 "nbformat_minor": 2
}
